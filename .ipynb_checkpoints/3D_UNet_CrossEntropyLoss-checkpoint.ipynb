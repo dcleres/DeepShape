{
 "cells": [
  {
   "cell_type": "code",
   "execution_count": 1,
   "metadata": {
    "collapsed": true
   },
   "outputs": [],
   "source": [
    "import torch\n",
    "import torch.nn as nn\n",
    "import torch.utils as utils\n",
    "import torch.nn.init as init\n",
    "import torch.utils.data as data\n",
    "import torchvision.utils as v_utils\n",
    "import torchvision.datasets as dset\n",
    "import torchvision.transforms as transforms\n",
    "from torch.autograd import Variable"
   ]
  },
  {
   "cell_type": "code",
   "execution_count": 2,
   "metadata": {},
   "outputs": [
    {
     "name": "stdout",
     "output_type": "stream",
     "text": [
      "torch.Size([3, 3, 16, 16, 16])\n"
     ]
    }
   ],
   "source": [
    "batch_size = 3\n",
    "image_size = 16\n",
    "out_dim = 4\n",
    "\n",
    "x = Variable(torch.ones(batch_size,3,image_size,image_size,image_size))\n",
    "print(x.size())"
   ]
  },
  {
   "cell_type": "code",
   "execution_count": 3,
   "metadata": {},
   "outputs": [
    {
     "data": {
      "text/plain": [
       "torch.Size([3, 1, 16, 16, 16])"
      ]
     },
     "execution_count": 3,
     "metadata": {},
     "output_type": "execute_result"
    }
   ],
   "source": [
    "model = nn.Conv3d(in_channels=3, out_channels=1, kernel_size=3, stride=1, padding=1,bias=True)\n",
    "model(x).size()"
   ]
  },
  {
   "cell_type": "code",
   "execution_count": 4,
   "metadata": {
    "collapsed": true
   },
   "outputs": [],
   "source": [
    "def conv_block_3d(in_dim,out_dim,act_fn):\n",
    "    model = nn.Sequential(\n",
    "        nn.Conv3d(in_dim,out_dim, kernel_size=3, stride=1, padding=1),\n",
    "        nn.BatchNorm3d(out_dim),\n",
    "        act_fn,\n",
    "    )\n",
    "    return model\n",
    "\n",
    "\n",
    "def conv_trans_block_3d(in_dim,out_dim,act_fn):\n",
    "    model = nn.Sequential(\n",
    "        nn.ConvTranspose3d(in_dim,out_dim, kernel_size=3, stride=2, padding=1,output_padding=1),\n",
    "        nn.BatchNorm3d(out_dim),\n",
    "        act_fn,\n",
    "    )\n",
    "    return model\n",
    "\n",
    "\n",
    "def maxpool_3d():\n",
    "    pool = nn.MaxPool3d(kernel_size=2, stride=2, padding=0)\n",
    "    return pool\n",
    "\n",
    "\n",
    "def conv_block_2_3d(in_dim,out_dim,act_fn):\n",
    "    model = nn.Sequential(\n",
    "        conv_block_3d(in_dim,out_dim,act_fn),\n",
    "        nn.Conv3d(out_dim,out_dim, kernel_size=3, stride=1, padding=1),\n",
    "        nn.BatchNorm3d(out_dim),\n",
    "    )\n",
    "    return model    \n",
    "\n",
    "\n",
    "def conv_block_3_3d(in_dim,out_dim,act_fn):\n",
    "    model = nn.Sequential(\n",
    "        conv_block_3d(in_dim,out_dim,act_fn),\n",
    "        conv_block_3d(out_dim,out_dim,act_fn),\n",
    "        nn.Conv3d(out_dim,out_dim, kernel_size=3, stride=1, padding=1),\n",
    "        nn.BatchNorm3d(out_dim),\n",
    "    )\n",
    "    return model"
   ]
  },
  {
   "cell_type": "code",
   "execution_count": 5,
   "metadata": {
    "collapsed": true
   },
   "outputs": [],
   "source": [
    "class UnetGenerator_3d(nn.Module):\n",
    "\n",
    "    def __init__(self,in_dim,out_dim,num_filter):\n",
    "        super(UnetGenerator_3d,self).__init__()\n",
    "        self.in_dim = in_dim\n",
    "        self.out_dim = out_dim\n",
    "        self.num_filter = num_filter\n",
    "        act_fn = nn.LeakyReLU(0.2, inplace=True)\n",
    "\n",
    "        print(\"\\n------Initiating U-Net------\\n\")\n",
    "        \n",
    "        self.down_1 = conv_block_2_3d(self.in_dim,self.num_filter,act_fn)\n",
    "        self.pool_1 = maxpool_3d()\n",
    "        self.down_2 = conv_block_2_3d(self.num_filter,self.num_filter*2,act_fn)\n",
    "        self.pool_2 = maxpool_3d()\n",
    "        self.down_3 = conv_block_2_3d(self.num_filter*2,self.num_filter*4,act_fn)\n",
    "        self.pool_3 = maxpool_3d()\n",
    "        \n",
    "        self.bridge = conv_block_2_3d(self.num_filter*4,self.num_filter*8,act_fn)\n",
    "        \n",
    "        self.trans_1 = conv_trans_block_3d(self.num_filter*8,self.num_filter*8,act_fn)\n",
    "        self.up_1 = conv_block_2_3d(self.num_filter*12,self.num_filter*4,act_fn)\n",
    "        self.trans_2 = conv_trans_block_3d(self.num_filter*4,self.num_filter*4,act_fn)\n",
    "        self.up_2 = conv_block_2_3d(self.num_filter*6,self.num_filter*2,act_fn)\n",
    "        self.trans_3 = conv_trans_block_3d(self.num_filter*2,self.num_filter*2,act_fn)\n",
    "        self.up_3 = conv_block_2_3d(self.num_filter*3,self.num_filter*1,act_fn)\n",
    "        \n",
    "        self.out = conv_block_3d(self.num_filter,out_dim,act_fn)\n",
    "\n",
    "\n",
    "    def forward(self,x):\n",
    "        down_1 = self.down_1(x)\n",
    "        pool_1 = self.pool_1(down_1)\n",
    "        down_2 = self.down_2(pool_1)\n",
    "        pool_2 = self.pool_2(down_2)\n",
    "        down_3 = self.down_3(pool_2)\n",
    "        pool_3 = self.pool_3(down_3)\n",
    "        \n",
    "        bridge = self.bridge(pool_3)\n",
    "        \n",
    "        trans_1  = self.trans_1(bridge)\n",
    "        concat_1 = torch.cat([trans_1,down_3],dim=1)\n",
    "        up_1     = self.up_1(concat_1)\n",
    "        trans_2  = self.trans_2(up_1)\n",
    "        concat_2 = torch.cat([trans_2,down_2],dim=1)\n",
    "        up_2     = self.up_2(concat_2)\n",
    "        trans_3  = self.trans_3(up_2)\n",
    "        concat_3 = torch.cat([trans_3,down_1],dim=1)\n",
    "        up_3     = self.up_3(concat_3)\n",
    "        \n",
    "        out = self.out(up_3)\n",
    "                        \n",
    "        return out"
   ]
  },
  {
   "cell_type": "code",
   "execution_count": 6,
   "metadata": {},
   "outputs": [
    {
     "name": "stdout",
     "output_type": "stream",
     "text": [
      "\n",
      "------Initiating U-Net------\n",
      "\n"
     ]
    }
   ],
   "source": [
    "unet = UnetGenerator_3d(in_dim=3,out_dim=out_dim,num_filter=4)\n",
    "output = unet(x)"
   ]
  },
  {
   "cell_type": "code",
   "execution_count": 7,
   "metadata": {
    "collapsed": true
   },
   "outputs": [],
   "source": [
    "def loss_function(output,label):\n",
    "    batch_size,channel,x,y,z = output.size()\n",
    "    total_loss = 0\n",
    "    for i in range(batch_size):    \n",
    "        for j in range(z):\n",
    "            loss = 0\n",
    "            output_z = output[i:i+1,:,:,:,j]\n",
    "            label_z = label[i,:,:,:,j]\n",
    "            \n",
    "            softmax_output_z = nn.Softmax2d()(output_z)\n",
    "            logsoftmax_output_z = torch.log(softmax_output_z)\n",
    "            \n",
    "            loss = nn.NLLLoss2d()(logsoftmax_output_z,label_z)\n",
    "            total_loss += loss\n",
    "            \n",
    "    return total_loss"
   ]
  },
  {
   "cell_type": "code",
   "execution_count": 8,
   "metadata": {
    "scrolled": true
   },
   "outputs": [],
   "source": [
    "# 전체 클래스가 4개라고 하면 각 복셀별로 0,1,2,3의 라벨값을 가진 라벨 텐서를 전달해주면 계산이 가능합니다.\n",
    "# label.size() = [batch,class,x,y,z]\n",
    "\n",
    "label = Variable(torch.zeros(batch_size,1,16,16,16).type_as(torch.LongTensor()))\n",
    "\n",
    "loss = loss_function(output,label)\n",
    "loss.backward()"
   ]
  }
 ],
 "metadata": {
  "kernelspec": {
   "display_name": "Python 3",
   "language": "python",
   "name": "python3"
  },
  "language_info": {
   "codemirror_mode": {
    "name": "ipython",
    "version": 3
   },
   "file_extension": ".py",
   "mimetype": "text/x-python",
   "name": "python",
   "nbconvert_exporter": "python",
   "pygments_lexer": "ipython3",
   "version": "3.6.5"
  }
 },
 "nbformat": 4,
 "nbformat_minor": 2
}
