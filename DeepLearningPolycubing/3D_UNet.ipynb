{
 "cells": [
  {
   "cell_type": "code",
   "execution_count": 1,
   "metadata": {},
   "outputs": [],
   "source": [
    "import matplotlib\n",
    "matplotlib.use(\"nbagg\")\n",
    "\n",
    "import matplotlib.pyplot as plt\n",
    "import numpy as np\n",
    "from mpl_toolkits.mplot3d import Axes3D\n",
    "\n",
    "from utility import *\n",
    "from model import * \n",
    "\n",
    "import torch\n",
    "import torch.nn as nn\n",
    "import torch.utils as utils\n",
    "import torch.nn.init as init\n",
    "import torch.utils.data as data\n",
    "import torchvision.utils as v_utils\n",
    "import torchvision.datasets as dset\n",
    "import torchvision.transforms as transforms\n",
    "from torch.autograd import Variable"
   ]
  },
  {
   "cell_type": "markdown",
   "metadata": {},
   "source": [
    "# Import Data "
   ]
  },
  {
   "cell_type": "code",
   "execution_count": 2,
   "metadata": {},
   "outputs": [],
   "source": [
    "from os import listdir\n",
    "from os.path import isfile, join\n",
    "import numpy as np\n",
    "\n",
    "polycube_path = \"/Users/davidcleres/DeepShape/Polycubing-Automated/Generated-Cars-Grid_size64/\"\n",
    "polycube_files = [f for f in listdir(polycube_path) if isfile(join(polycube_path, f))]\n",
    "\n",
    "voxelized_mesh_path = \"/Users/davidcleres/DeepShape/Polycubing-Automated/voxelizedMeshes-Grid_size64/\"\n",
    "voxelized_mesh_files = [f for f in listdir(voxelized_mesh_path) if isfile(join(voxelized_mesh_path, f))]\n",
    "\n",
    "voxelizedFiles = []\n",
    "polycubedFiles = []\n",
    "\n",
    "for f in voxelized_mesh_files: \n",
    "    if f[-13:] == \"voxelized.txt\":\n",
    "        voxelizedFiles = np.hstack((voxelizedFiles, f))\n",
    "    \n",
    "for f in polycube_files:\n",
    "    if f[-14:] == \"finalCubes.txt\":\n",
    "        polycubedFiles = np.hstack((polycubedFiles, f))"
   ]
  },
  {
   "cell_type": "code",
   "execution_count": 3,
   "metadata": {},
   "outputs": [
    {
     "name": "stdout",
     "output_type": "stream",
     "text": [
      "<class 'torch.IntTensor'> torch.Size([64, 64, 64])\n",
      "<class 'torch.IntTensor'> torch.Size([64, 64, 64])\n",
      "<class 'torch.IntTensor'> torch.Size([64, 64, 64])\n",
      "<class 'torch.IntTensor'> torch.Size([64, 64, 64])\n",
      "<class 'torch.IntTensor'> torch.Size([64, 64, 64])\n",
      "<class 'torch.IntTensor'> torch.Size([64, 64, 64])\n",
      "<class 'torch.IntTensor'> torch.Size([64, 64, 64])\n",
      "<class 'torch.IntTensor'> torch.Size([64, 64, 64])\n",
      "<class 'torch.IntTensor'> torch.Size([64, 64, 64])\n",
      "<class 'torch.IntTensor'> torch.Size([64, 64, 64])\n",
      "<class 'torch.IntTensor'> torch.Size([64, 64, 64])\n",
      "<class 'torch.IntTensor'> torch.Size([64, 64, 64])\n",
      "<class 'torch.IntTensor'> torch.Size([64, 64, 64])\n",
      "<class 'torch.IntTensor'> torch.Size([64, 64, 64])\n",
      "<class 'torch.IntTensor'> torch.Size([64, 64, 64])\n",
      "<class 'torch.IntTensor'> torch.Size([64, 64, 64])\n",
      "<class 'torch.IntTensor'> torch.Size([64, 64, 64])\n",
      "<class 'torch.IntTensor'> torch.Size([64, 64, 64])\n",
      "<class 'torch.IntTensor'> torch.Size([64, 64, 64])\n",
      "<class 'torch.IntTensor'> torch.Size([64, 64, 64])\n",
      "<class 'torch.IntTensor'> torch.Size([64, 64, 64])\n",
      "<class 'torch.IntTensor'> torch.Size([64, 64, 64])\n",
      "<class 'torch.IntTensor'> torch.Size([64, 64, 64])\n",
      "<class 'torch.IntTensor'> torch.Size([64, 64, 64])\n",
      "<class 'torch.IntTensor'> torch.Size([64, 64, 64])\n",
      "<class 'torch.IntTensor'> torch.Size([64, 64, 64])\n",
      "<class 'torch.IntTensor'> torch.Size([64, 64, 64])\n",
      "<class 'torch.IntTensor'> torch.Size([64, 64, 64])\n",
      "<class 'torch.IntTensor'> torch.Size([64, 64, 64])\n",
      "<class 'torch.IntTensor'> torch.Size([64, 64, 64])\n",
      "<class 'torch.IntTensor'> torch.Size([64, 64, 64])\n",
      "<class 'torch.IntTensor'> torch.Size([64, 64, 64])\n",
      "<class 'torch.IntTensor'> torch.Size([64, 64, 64])\n",
      "<class 'torch.IntTensor'> torch.Size([64, 64, 64])\n",
      "<class 'torch.IntTensor'> torch.Size([64, 64, 64])\n",
      "<class 'torch.IntTensor'> torch.Size([64, 64, 64])\n",
      "<class 'torch.IntTensor'> torch.Size([64, 64, 64])\n",
      "<class 'torch.IntTensor'> torch.Size([64, 64, 64])\n",
      "<class 'torch.IntTensor'> torch.Size([64, 64, 64])\n",
      "<class 'torch.IntTensor'> torch.Size([64, 64, 64])\n",
      "<class 'torch.IntTensor'> torch.Size([64, 64, 64])\n",
      "<class 'torch.IntTensor'> torch.Size([64, 64, 64])\n",
      "<class 'torch.IntTensor'> torch.Size([64, 64, 64])\n",
      "<class 'torch.IntTensor'> torch.Size([64, 64, 64])\n",
      "<class 'torch.IntTensor'> torch.Size([64, 64, 64])\n",
      "<class 'torch.IntTensor'> torch.Size([64, 64, 64])\n",
      "<class 'torch.IntTensor'> torch.Size([64, 64, 64])\n",
      "<class 'torch.IntTensor'> torch.Size([64, 64, 64])\n",
      "<class 'torch.IntTensor'> torch.Size([64, 64, 64])\n",
      "<class 'torch.IntTensor'> torch.Size([64, 64, 64])\n",
      "<class 'torch.IntTensor'> torch.Size([64, 64, 64])\n",
      "<class 'torch.IntTensor'> torch.Size([64, 64, 64])\n",
      "<class 'torch.IntTensor'> torch.Size([64, 64, 64])\n",
      "<class 'torch.IntTensor'> torch.Size([64, 64, 64])\n",
      "<class 'torch.IntTensor'> torch.Size([64, 64, 64])\n",
      "<class 'torch.IntTensor'> torch.Size([64, 64, 64])\n",
      "<class 'torch.IntTensor'> torch.Size([64, 64, 64])\n",
      "<class 'torch.IntTensor'> torch.Size([64, 64, 64])\n",
      "<class 'torch.IntTensor'> torch.Size([64, 64, 64])\n",
      "<class 'torch.IntTensor'> torch.Size([64, 64, 64])\n",
      "<class 'torch.IntTensor'> torch.Size([64, 64, 64])\n",
      "<class 'torch.IntTensor'> torch.Size([64, 64, 64])\n",
      "<class 'torch.IntTensor'> torch.Size([64, 64, 64])\n",
      "<class 'torch.IntTensor'> torch.Size([64, 64, 64])\n",
      "<class 'torch.IntTensor'> torch.Size([64, 64, 64])\n",
      "<class 'torch.IntTensor'> torch.Size([64, 64, 64])\n",
      "<class 'torch.IntTensor'> torch.Size([64, 64, 64])\n",
      "<class 'torch.IntTensor'> torch.Size([64, 64, 64])\n",
      "<class 'torch.IntTensor'> torch.Size([64, 64, 64])\n",
      "<class 'torch.IntTensor'> torch.Size([64, 64, 64])\n",
      "<class 'torch.IntTensor'> torch.Size([64, 64, 64])\n",
      "<class 'torch.IntTensor'> torch.Size([64, 64, 64])\n",
      "<class 'torch.IntTensor'> torch.Size([64, 64, 64])\n",
      "<class 'torch.IntTensor'> torch.Size([64, 64, 64])\n",
      "<class 'torch.IntTensor'> torch.Size([64, 64, 64])\n",
      "<class 'torch.IntTensor'> torch.Size([64, 64, 64])\n",
      "<class 'torch.IntTensor'> torch.Size([64, 64, 64])\n",
      "<class 'torch.IntTensor'> torch.Size([64, 64, 64])\n",
      "<class 'torch.IntTensor'> torch.Size([64, 64, 64])\n",
      "<class 'torch.IntTensor'> torch.Size([64, 64, 64])\n",
      "<class 'torch.IntTensor'> torch.Size([64, 64, 64])\n",
      "<class 'torch.IntTensor'> torch.Size([64, 64, 64])\n",
      "<class 'torch.IntTensor'> torch.Size([64, 64, 64])\n",
      "<class 'torch.IntTensor'> torch.Size([64, 64, 64])\n",
      "<class 'torch.IntTensor'> torch.Size([64, 64, 64])\n",
      "<class 'torch.IntTensor'> torch.Size([64, 64, 64])\n",
      "<class 'torch.IntTensor'> torch.Size([64, 64, 64])\n",
      "<class 'torch.IntTensor'> torch.Size([64, 64, 64])\n",
      "<class 'torch.IntTensor'> torch.Size([64, 64, 64])\n",
      "<class 'torch.IntTensor'> torch.Size([64, 64, 64])\n",
      "<class 'torch.IntTensor'> torch.Size([64, 64, 64])\n",
      "<class 'torch.IntTensor'> torch.Size([64, 64, 64])\n",
      "<class 'torch.IntTensor'> torch.Size([64, 64, 64])\n",
      "<class 'torch.IntTensor'> torch.Size([64, 64, 64])\n",
      "<class 'torch.IntTensor'> torch.Size([64, 64, 64])\n",
      "<class 'torch.IntTensor'> torch.Size([64, 64, 64])\n",
      "<class 'torch.IntTensor'> torch.Size([64, 64, 64])\n",
      "<class 'torch.IntTensor'> torch.Size([64, 64, 64])\n",
      "<class 'torch.IntTensor'> torch.Size([64, 64, 64])\n",
      "<class 'torch.IntTensor'> torch.Size([64, 64, 64])\n",
      "<class 'torch.IntTensor'> torch.Size([64, 64, 64])\n",
      "<class 'torch.IntTensor'> torch.Size([64, 64, 64])\n",
      "<class 'torch.IntTensor'> torch.Size([64, 64, 64])\n",
      "<class 'torch.IntTensor'> torch.Size([64, 64, 64])\n",
      "<class 'torch.IntTensor'> torch.Size([64, 64, 64])\n",
      "<class 'torch.IntTensor'> torch.Size([64, 64, 64])\n",
      "<class 'torch.IntTensor'> torch.Size([64, 64, 64])\n",
      "<class 'torch.IntTensor'> torch.Size([64, 64, 64])\n",
      "<class 'torch.IntTensor'> torch.Size([64, 64, 64])\n",
      "<class 'torch.IntTensor'> torch.Size([64, 64, 64])\n",
      "<class 'torch.IntTensor'> torch.Size([64, 64, 64])\n",
      "<class 'torch.IntTensor'> torch.Size([64, 64, 64])\n",
      "<class 'torch.IntTensor'> torch.Size([64, 64, 64])\n",
      "<class 'torch.IntTensor'> torch.Size([64, 64, 64])\n",
      "<class 'torch.IntTensor'> torch.Size([64, 64, 64])\n",
      "<class 'torch.IntTensor'> torch.Size([64, 64, 64])\n",
      "<class 'torch.IntTensor'> torch.Size([64, 64, 64])\n",
      "<class 'torch.IntTensor'> torch.Size([64, 64, 64])\n",
      "<class 'torch.IntTensor'> torch.Size([64, 64, 64])\n",
      "<class 'torch.IntTensor'> torch.Size([64, 64, 64])\n",
      "torch.Size([60, 64, 64, 64])\n"
     ]
    }
   ],
   "source": [
    "grid_size = 64\n",
    "voxelized_train_input, polycube_target=loadData(grid_size, polycube_path, voxelized_mesh_path, voxelizedFiles, polycubedFiles, loadFromScratch=True)"
   ]
  },
  {
   "cell_type": "code",
   "execution_count": 4,
   "metadata": {},
   "outputs": [
    {
     "name": "stdout",
     "output_type": "stream",
     "text": [
      "train torch.Size([45, 1, 64, 64, 64])\n",
      "validation torch.Size([15, 1, 64, 64, 64])\n",
      "train_target torch.Size([45, 1, 64, 64, 64])\n",
      "validation_target torch.Size([15, 1, 64, 64, 64])\n"
     ]
    }
   ],
   "source": [
    "import math #Really need thi import ????? \n",
    "\n",
    "batch_size = 15 \n",
    "preprocessed_input_train, preprocessed_input_validation, preprocessed_input_train_target, preprocessed_input_validation_target = preprocessing_train(voxelized_train_input, polycube_target,batch_size, False, False)\n",
    "\n",
    "preprocessed_input_train = torch.from_numpy(preprocessed_input_train)\n",
    "preprocessed_input_validation = torch.from_numpy(preprocessed_input_validation)\n",
    "preprocessed_input_train_target = torch.from_numpy(preprocessed_input_train_target)\n",
    "preprocessed_input_validation_target = torch.from_numpy(preprocessed_input_validation_target)\n",
    "\n",
    "Ntrain = len(preprocessed_input_train[:, 0,0,0,0]) \n",
    "Nvalidation = len(preprocessed_input_validation[:,0,0,0,0])\n",
    "image_size = 64\n",
    "\n",
    "train_input = Variable(preprocessed_input_train.view(Ntrain, 1, image_size, image_size, image_size).float())\n",
    "validation_input = Variable(preprocessed_input_validation.view(Nvalidation, 1, image_size, image_size, image_size).float())\n",
    "\n",
    "labels_train = Variable(preprocessed_input_train_target.view(Ntrain, 1, image_size, image_size, image_size), requires_grad=False).float() \n",
    "labels_validation = Variable(preprocessed_input_validation_target.view(Nvalidation, 1, image_size, image_size, image_size), requires_grad=False).float() \n",
    "\n",
    "print('train', train_input.shape)\n",
    "print('validation', validation_input.shape)\n",
    "print('train_target', labels_train.shape)\n",
    "print('validation_target', labels_validation.shape)"
   ]
  },
  {
   "cell_type": "code",
   "execution_count": 5,
   "metadata": {},
   "outputs": [
    {
     "data": {
      "text/plain": [
       "torch.Size([45, 1, 64, 64, 64])"
      ]
     },
     "execution_count": 5,
     "metadata": {},
     "output_type": "execute_result"
    }
   ],
   "source": [
    "model = nn.Conv3d(in_channels=1, out_channels=1, kernel_size=3, stride=1, padding=1,bias=True)\n",
    "model(train_input).size()"
   ]
  },
  {
   "cell_type": "code",
   "execution_count": 6,
   "metadata": {},
   "outputs": [
    {
     "name": "stdout",
     "output_type": "stream",
     "text": [
      "\n",
      "------Initiating U-Net------\n",
      "\n"
     ]
    }
   ],
   "source": [
    "unet = UnetGenerator_3d(in_dim=1,out_dim=1,num_filter=4)\n",
    "\n",
    "#output = unet(train_input)\n",
    "#print(output.size()) "
   ]
  },
  {
   "cell_type": "code",
   "execution_count": 7,
   "metadata": {},
   "outputs": [
    {
     "name": "stdout",
     "output_type": "stream",
     "text": [
      "output torch.Size([15, 1, 64, 64, 64])\n",
      "labels torch.Size([15, 1, 64, 64, 64])\n"
     ]
    },
    {
     "ename": "KeyboardInterrupt",
     "evalue": "",
     "output_type": "error",
     "traceback": [
      "\u001b[0;31m---------------------------------------------------------------------------\u001b[0m",
      "\u001b[0;31mKeyboardInterrupt\u001b[0m                         Traceback (most recent call last)",
      "\u001b[0;32m<ipython-input-7-0eba6c026b0c>\u001b[0m in \u001b[0;36m<module>\u001b[0;34m()\u001b[0m\n\u001b[1;32m     39\u001b[0m             \u001b[0mbatch_loss\u001b[0m \u001b[0;34m=\u001b[0m \u001b[0mcriterion\u001b[0m\u001b[0;34m(\u001b[0m\u001b[0moutput\u001b[0m\u001b[0;34m,\u001b[0m \u001b[0mlabels_train\u001b[0m\u001b[0;34m.\u001b[0m\u001b[0mnarrow\u001b[0m\u001b[0;34m(\u001b[0m\u001b[0;36m0\u001b[0m\u001b[0;34m,\u001b[0m \u001b[0mb_start\u001b[0m\u001b[0;34m,\u001b[0m \u001b[0mbsize_eff\u001b[0m\u001b[0;34m)\u001b[0m\u001b[0;34m)\u001b[0m\u001b[0;34m\u001b[0m\u001b[0m\n\u001b[1;32m     40\u001b[0m             \u001b[0mep_loss\u001b[0m\u001b[0;34m[\u001b[0m\u001b[0mi_ep\u001b[0m\u001b[0;34m]\u001b[0m \u001b[0;34m+=\u001b[0m \u001b[0mbatch_loss\u001b[0m\u001b[0;34m.\u001b[0m\u001b[0mdata\u001b[0m\u001b[0;34m[\u001b[0m\u001b[0;36m0\u001b[0m\u001b[0;34m]\u001b[0m\u001b[0;34m\u001b[0m\u001b[0m\n\u001b[0;32m---> 41\u001b[0;31m             \u001b[0mbatch_loss\u001b[0m\u001b[0;34m.\u001b[0m\u001b[0mbackward\u001b[0m\u001b[0;34m(\u001b[0m\u001b[0;34m)\u001b[0m\u001b[0;34m\u001b[0m\u001b[0m\n\u001b[0m\u001b[1;32m     42\u001b[0m             \u001b[0moptimizer\u001b[0m\u001b[0;34m.\u001b[0m\u001b[0mstep\u001b[0m\u001b[0;34m(\u001b[0m\u001b[0;34m)\u001b[0m\u001b[0;34m\u001b[0m\u001b[0m\n\u001b[1;32m     43\u001b[0m \u001b[0;34m\u001b[0m\u001b[0m\n",
      "\u001b[0;32m~/anaconda/envs/DeepLearning/lib/python3.6/site-packages/torch/autograd/variable.py\u001b[0m in \u001b[0;36mbackward\u001b[0;34m(self, gradient, retain_graph, create_graph, retain_variables)\u001b[0m\n\u001b[1;32m    165\u001b[0m                 \u001b[0mVariable\u001b[0m\u001b[0;34m.\u001b[0m\u001b[0;34m\u001b[0m\u001b[0m\n\u001b[1;32m    166\u001b[0m         \"\"\"\n\u001b[0;32m--> 167\u001b[0;31m         \u001b[0mtorch\u001b[0m\u001b[0;34m.\u001b[0m\u001b[0mautograd\u001b[0m\u001b[0;34m.\u001b[0m\u001b[0mbackward\u001b[0m\u001b[0;34m(\u001b[0m\u001b[0mself\u001b[0m\u001b[0;34m,\u001b[0m \u001b[0mgradient\u001b[0m\u001b[0;34m,\u001b[0m \u001b[0mretain_graph\u001b[0m\u001b[0;34m,\u001b[0m \u001b[0mcreate_graph\u001b[0m\u001b[0;34m,\u001b[0m \u001b[0mretain_variables\u001b[0m\u001b[0;34m)\u001b[0m\u001b[0;34m\u001b[0m\u001b[0m\n\u001b[0m\u001b[1;32m    168\u001b[0m \u001b[0;34m\u001b[0m\u001b[0m\n\u001b[1;32m    169\u001b[0m     \u001b[0;32mdef\u001b[0m \u001b[0mregister_hook\u001b[0m\u001b[0;34m(\u001b[0m\u001b[0mself\u001b[0m\u001b[0;34m,\u001b[0m \u001b[0mhook\u001b[0m\u001b[0;34m)\u001b[0m\u001b[0;34m:\u001b[0m\u001b[0;34m\u001b[0m\u001b[0m\n",
      "\u001b[0;32m~/anaconda/envs/DeepLearning/lib/python3.6/site-packages/torch/autograd/__init__.py\u001b[0m in \u001b[0;36mbackward\u001b[0;34m(variables, grad_variables, retain_graph, create_graph, retain_variables)\u001b[0m\n\u001b[1;32m     97\u001b[0m \u001b[0;34m\u001b[0m\u001b[0m\n\u001b[1;32m     98\u001b[0m     Variable._execution_engine.run_backward(\n\u001b[0;32m---> 99\u001b[0;31m         variables, grad_variables, retain_graph)\n\u001b[0m\u001b[1;32m    100\u001b[0m \u001b[0;34m\u001b[0m\u001b[0m\n\u001b[1;32m    101\u001b[0m \u001b[0;34m\u001b[0m\u001b[0m\n",
      "\u001b[0;31mKeyboardInterrupt\u001b[0m: "
     ]
    }
   ],
   "source": [
    "import torch.optim as optim\n",
    "import torch.nn.functional as F\n",
    "\n",
    "Nepochs = 5\n",
    "Nrep = 1\n",
    "\n",
    "# Train network \n",
    "criterion = nn.BCELoss()\n",
    "#criterion = nn.CrossEntropyLoss()\n",
    "#criterion = nn.PoissonNLLLoss()\n",
    "#criterion = nn.BCEWithLogitsLoss()\n",
    "#criterion = nn.SmoothL1Loss() #interesting ... but does not converge\n",
    "#criterion = nn.MSELoss() #0.83 but unstable\n",
    "\n",
    "optimizer = optim.SGD(model.parameters(), lr=1e-2, momentum=0.90)\n",
    "#optimizer = optim.Adam(model.parameters())\n",
    "#optimizer = optim.Adagrad(model.parameters())\n",
    "#optimizer = optim.Adamax(model.parameters())\n",
    "#optimizer = optim.ASGD(model.parameters())\n",
    "#optimizer = optim.RMSprop(model.parameters())\n",
    "#optimizer = optim.Rprop(model.parameters())\n",
    "\n",
    "scheduler = optim.lr_scheduler.ReduceLROnPlateau(optimizer, 'min', patience=10, verbose=True)\n",
    "\n",
    "train_errors = torch.Tensor(Nepochs).zero_()\n",
    "validation_errors = torch.Tensor(Nepochs).zero_()\n",
    "\n",
    "ep_loss = torch.Tensor(Nepochs).zero_()\n",
    "\n",
    "for i_rep in range(Nrep):\n",
    "    for i_ep in range(Nepochs):\n",
    "        for b_start in range(0, Ntrain, batch_size):\n",
    "            bsize_eff = batch_size - max(0, b_start+batch_size-Ntrain)  # boundary case\n",
    "            unet.train()\n",
    "            unet.zero_grad()\n",
    "            output = unet(train_input.narrow(0, b_start, bsize_eff))\n",
    "            print('output', output.shape)\n",
    "            print('labels', labels_train.narrow(0, b_start, bsize_eff).shape)\n",
    "            batch_loss = criterion(output, labels_train.narrow(0, b_start, bsize_eff))            \n",
    "            ep_loss[i_ep] += batch_loss.data[0]\n",
    "            batch_loss.backward()\n",
    "            optimizer.step()\n",
    "        \n",
    "        scheduler.step(ep_loss[i_ep])\n",
    "        \n",
    "        '''\n",
    "        nb_train_errs = compute_nb_errors(unet, train_input, labels_train, batch_size)\n",
    "        nb_validation_errs = compute_nb_errors(unet, validation_input, labels_validation, batch_size)\n",
    "        \n",
    "        print(\"train_error\", nb_train_errs)\n",
    "        print(\"nb_validation_errs\", nb_validation_errs)\n",
    "        \n",
    "        print(\"Epoch Number : \", i_ep)\n",
    "        print(\"\\t Training accuracy: \", np.abs(100*(Ntrain*100*100*100-int(nb_train_errs))/(Ntrain*100*100*100)))\n",
    "        print(\"\\t Validation accuracy \", np.abs(100*(Nvalidation*100*100*100-int(nb_validation_errs))/(Nvalidation*100*100*100))) \n",
    "        \n",
    "        print(\"\\t Epoch Loss \", ep_loss[i_ep])\n",
    "        \n",
    "        train_errors[i_ep] = int(nb_train_errs)\n",
    "        validation_errors[i_ep] = int(nb_validation_errs)\n",
    "        '''"
   ]
  },
  {
   "cell_type": "code",
   "execution_count": null,
   "metadata": {},
   "outputs": [],
   "source": []
  },
  {
   "cell_type": "code",
   "execution_count": null,
   "metadata": {},
   "outputs": [],
   "source": []
  },
  {
   "cell_type": "code",
   "execution_count": null,
   "metadata": {},
   "outputs": [],
   "source": []
  }
 ],
 "metadata": {
  "kernelspec": {
   "display_name": "Python 3",
   "language": "python",
   "name": "python3"
  },
  "language_info": {
   "codemirror_mode": {
    "name": "ipython",
    "version": 3
   },
   "file_extension": ".py",
   "mimetype": "text/x-python",
   "name": "python",
   "nbconvert_exporter": "python",
   "pygments_lexer": "ipython3",
   "version": "3.6.5"
  }
 },
 "nbformat": 4,
 "nbformat_minor": 2
}
