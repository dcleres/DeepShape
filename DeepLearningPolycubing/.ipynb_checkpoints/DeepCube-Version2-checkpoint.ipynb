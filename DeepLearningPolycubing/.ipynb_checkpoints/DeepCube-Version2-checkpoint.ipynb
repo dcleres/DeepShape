{
 "cells": [
  {
   "cell_type": "code",
   "execution_count": 1,
   "metadata": {},
   "outputs": [],
   "source": [
    "import matplotlib\n",
    "matplotlib.use(\"nbagg\")\n",
    "\n",
    "import matplotlib.pyplot as plt\n",
    "import numpy as np\n",
    "from mpl_toolkits.mplot3d import Axes3D\n",
    "\n",
    "from utility import *\n",
    "from models import *\n",
    "\n",
    "from os import listdir\n",
    "from os.path import isfile, join\n",
    "import numpy as np\n",
    "import math\n",
    "\n",
    "import torch.optim as optim"
   ]
  },
  {
   "cell_type": "markdown",
   "metadata": {},
   "source": [
    "# Define from where to load the files "
   ]
  },
  {
   "cell_type": "code",
   "execution_count": 2,
   "metadata": {},
   "outputs": [],
   "source": [
    "polycube_path = \"/Users/davidcleres/DeepShape/Polycubing-Automated/Generated-Cars/\"\n",
    "polycube_files = [f for f in listdir(polycube_path) if isfile(join(polycube_path, f))]\n",
    "\n",
    "voxelized_mesh_path = \"/Users/davidcleres/DeepShape/Polycubing-Automated/voxelizedMeshes/\"\n",
    "voxelized_mesh_files = [f for f in listdir(voxelized_mesh_path) if isfile(join(voxelized_mesh_path, f))]\n",
    "\n",
    "voxelizedFiles = []\n",
    "polycubedFiles = []\n",
    "\n",
    "for f in voxelized_mesh_files: \n",
    "    if f[-13:] == \"voxelized.txt\":\n",
    "        voxelizedFiles = np.hstack((voxelizedFiles, f))\n",
    "    \n",
    "for f in polycube_files:\n",
    "    if f[-14:] == \"finalCubes.txt\":\n",
    "        polycubedFiles = np.hstack((polycubedFiles, f))\n",
    "        \n"
   ]
  },
  {
   "cell_type": "markdown",
   "metadata": {},
   "source": [
    "# Load the data"
   ]
  },
  {
   "cell_type": "code",
   "execution_count": 3,
   "metadata": {},
   "outputs": [],
   "source": [
    "grid_size = 100\n",
    "voxelized_train_input, polycube_target=loadData(grid_size, polycube_path, voxelized_mesh_path, voxelizedFiles, polycubedFiles, loadFromScratch=False)"
   ]
  },
  {
   "cell_type": "markdown",
   "metadata": {},
   "source": [
    "# Build a training and validation set "
   ]
  },
  {
   "cell_type": "code",
   "execution_count": 4,
   "metadata": {},
   "outputs": [],
   "source": [
    "batch_size = 5 \n",
    "preprocessed_input_train, preprocessed_input_validation, preprocessed_input_train_target, preprocessed_input_validation_target = preprocessing_train(voxelized_train_input, polycube_target,batch_size, False, False)\n",
    "\n",
    "preprocessed_input_train = torch.from_numpy(preprocessed_input_train)\n",
    "preprocessed_input_validation = torch.from_numpy(preprocessed_input_validation)\n",
    "preprocessed_input_train_target = torch.from_numpy(preprocessed_input_train_target)\n",
    "preprocessed_input_validation_target = torch.from_numpy(preprocessed_input_validation_target)\n",
    "\n",
    "Ntrain = len(preprocessed_input_train[:,0,0,0,0]) \n",
    "Nvalidation = len(preprocessed_input_validation[:,0,0,0,0])\n",
    "image_size = 32\n",
    "\n",
    "train_input = np.array(preprocessed_input_train.view(Ntrain, 1,image_size, image_size, image_size))\n",
    "validation_input = np.array(preprocessed_input_validation.view(Nvalidation, 1,image_size, image_size, image_size))\n",
    "\n",
    "labels_train = np.array(preprocessed_input_train_target.view(Ntrain, 1, image_size, image_size, image_size))\n",
    "labels_validation = np.array(preprocessed_input_validation_target.view(Nvalidation, 1,image_size, image_size, image_size))"
   ]
  },
  {
   "cell_type": "markdown",
   "metadata": {},
   "source": [
    "# Create the target \n",
    "Find the middle of the cube and the distance to the x, y and z boundaries"
   ]
  },
  {
   "cell_type": "code",
   "execution_count": 5,
   "metadata": {},
   "outputs": [
    {
     "name": "stdout",
     "output_type": "stream",
     "text": [
      "train_input torch.Size([55, 1, 32, 32, 32])\n",
      "labels_train_cube_coords torch.Size([55, 1, 9])\n",
      "validation_input torch.Size([5, 1, 32, 32, 32])\n",
      "labels_validation_cube_coords torch.Size([5, 1, 9])\n"
     ]
    }
   ],
   "source": [
    "labels_train_cube_coords = np.zeros((len(train_input[:,0,0,0,0]), 1, 9))\n",
    "for i in range (len(train_input[:,0,0,0,0])):\n",
    "    #solution 1 - the loss is calculed based on the 9 labels \n",
    "    delta_x_left, delta_x_right, center_x, delta_y_left, delta_y_right, center_y, delta_z_left, delta_z_right, center_z = find_center_and_delta(labels_train[i, 0, :, :, :], grid_size=32)\n",
    "    labels_train_cube_coords[i,0,0] = delta_x_left\n",
    "    labels_train_cube_coords[i,0,1] = delta_x_right\n",
    "    labels_train_cube_coords[i,0,2] = center_x\n",
    "    labels_train_cube_coords[i,0,3] = delta_y_left\n",
    "    labels_train_cube_coords[i,0,4] = delta_y_right\n",
    "    labels_train_cube_coords[i,0,5] = center_y\n",
    "    labels_train_cube_coords[i,0,6] = delta_z_left\n",
    "    labels_train_cube_coords[i,0,7] = delta_z_right\n",
    "    labels_train_cube_coords[i,0,8] = center_z\n",
    "    \n",
    "labels_validation_cube_coords = np.zeros((len(labels_validation[:,0,0,0,0]), 1, 9))\n",
    "for i in range (len((validation_input[:,0,0,0,0]))):\n",
    "    #solution 1 - the loss is calculed based on the 9 labels \n",
    "    delta_x_left, delta_x_right, center_x, delta_y_left, delta_y_right, center_y, delta_z_left, delta_z_right, center_z = find_center_and_delta(labels_train[i, 0, :, :, :], grid_size=32)\n",
    "    labels_validation_cube_coords[i, 0,0] = delta_x_left\n",
    "    labels_validation_cube_coords[i, 0,1] = delta_x_right\n",
    "    labels_validation_cube_coords[i, 0,2] = center_x\n",
    "    labels_validation_cube_coords[i, 0,3] = delta_y_left\n",
    "    labels_validation_cube_coords[i, 0,4] = delta_y_right\n",
    "    labels_validation_cube_coords[i, 0,5] = center_y\n",
    "    labels_validation_cube_coords[i, 0,6] = delta_z_left\n",
    "    labels_validation_cube_coords[i,0,7] = delta_z_right\n",
    "    labels_validation_cube_coords[i, 0,8] = center_z\n",
    "    \n",
    "    \n",
    "labels_validation_cube_coords = torch.from_numpy(labels_validation_cube_coords)\n",
    "labels_train_cube_coords = torch.from_numpy(labels_train_cube_coords)\n",
    "train_input = torch.from_numpy(train_input)\n",
    "validation_input = torch.from_numpy(validation_input)\n",
    "\n",
    "print('train_input', train_input.shape)\n",
    "print('labels_train_cube_coords', labels_train_cube_coords.shape)\n",
    "\n",
    "print('validation_input', validation_input.shape)\n",
    "print('labels_validation_cube_coords', labels_validation_cube_coords.shape)\n",
    "\n",
    "    \n",
    "    #solution 2 - the loss is calculated from the cube generated thanks to the learned coordinates \n",
    "    #output = build_cube(delta_x_left, delta_x_right, center_x, delta_y_left, delta_y_right, center_y, delta_z_left, delta_z_right, center_z, grid_size)\n",
    "    "
   ]
  },
  {
   "cell_type": "code",
   "execution_count": 6,
   "metadata": {},
   "outputs": [
    {
     "name": "stdout",
     "output_type": "stream",
     "text": [
      "torch.Size([5, 16, 20, 20, 20])\n",
      "torch.Size([5, 16, 20, 20, 20])\n",
      "torch.Size([5, 16, 20, 20, 20])\n",
      "torch.Size([5, 16, 20, 20, 20])\n",
      "torch.Size([5, 16, 20, 20, 20])\n",
      "torch.Size([5, 16, 20, 20, 20])\n",
      "torch.Size([5, 16, 20, 20, 20])\n",
      "torch.Size([5, 16, 20, 20, 20])\n",
      "torch.Size([5, 16, 20, 20, 20])\n",
      "torch.Size([5, 16, 20, 20, 20])\n",
      "torch.Size([5, 16, 20, 20, 20])\n",
      "torch.Size([5, 16, 20, 20, 20])\n"
     ]
    },
    {
     "ename": "RuntimeError",
     "evalue": "invalid argument 2: size '[5 x 32 x 32 x 32]' is invalid for input with 45 elements at /Users/soumith/minicondabuild3/conda-bld/pytorch_1518385717421/work/torch/lib/TH/THStorage.c:41",
     "output_type": "error",
     "traceback": [
      "\u001b[0;31m---------------------------------------------------------------------------\u001b[0m",
      "\u001b[0;31mRuntimeError\u001b[0m                              Traceback (most recent call last)",
      "\u001b[0;32m<ipython-input-6-019d0621dd50>\u001b[0m in \u001b[0;36m<module>\u001b[0;34m()\u001b[0m\n\u001b[1;32m     73\u001b[0m         \u001b[0mscheduler\u001b[0m\u001b[0;34m.\u001b[0m\u001b[0mstep\u001b[0m\u001b[0;34m(\u001b[0m\u001b[0mep_loss\u001b[0m\u001b[0;34m[\u001b[0m\u001b[0mi_rep\u001b[0m\u001b[0;34m,\u001b[0m \u001b[0mi_ep\u001b[0m\u001b[0;34m]\u001b[0m\u001b[0;34m)\u001b[0m\u001b[0;34m\u001b[0m\u001b[0m\n\u001b[1;32m     74\u001b[0m \u001b[0;34m\u001b[0m\u001b[0m\n\u001b[0;32m---> 75\u001b[0;31m         \u001b[0mnb_train_errs\u001b[0m \u001b[0;34m=\u001b[0m \u001b[0mcompute_nb_errors\u001b[0m\u001b[0;34m(\u001b[0m\u001b[0mmodel\u001b[0m\u001b[0;34m,\u001b[0m \u001b[0mtrain_input\u001b[0m\u001b[0;34m,\u001b[0m \u001b[0mtrain_target\u001b[0m\u001b[0;34m,\u001b[0m \u001b[0mbatch_size\u001b[0m\u001b[0;34m,\u001b[0m \u001b[0mcriterion\u001b[0m\u001b[0;34m)\u001b[0m\u001b[0;34m\u001b[0m\u001b[0m\n\u001b[0m\u001b[1;32m     76\u001b[0m         \u001b[0mnb_validation_errs\u001b[0m \u001b[0;34m=\u001b[0m \u001b[0mcompute_nb_errors\u001b[0m\u001b[0;34m(\u001b[0m\u001b[0mmodel\u001b[0m\u001b[0;34m,\u001b[0m \u001b[0mvalidation_input\u001b[0m\u001b[0;34m,\u001b[0m \u001b[0mvalidation_target\u001b[0m\u001b[0;34m,\u001b[0m \u001b[0mbatch_size\u001b[0m\u001b[0;34m,\u001b[0m \u001b[0mcriterion\u001b[0m\u001b[0;34m)\u001b[0m\u001b[0;34m\u001b[0m\u001b[0m\n\u001b[1;32m     77\u001b[0m \u001b[0;34m\u001b[0m\u001b[0m\n",
      "\u001b[0;32m~/DeepShape/DeepLearningPolycubing/utility.py\u001b[0m in \u001b[0;36mcompute_nb_errors\u001b[0;34m(model, data_input, data_target, batch_size, criterion)\u001b[0m\n\u001b[1;32m    320\u001b[0m             \u001b[0mnb_errors\u001b[0m \u001b[0;34m+=\u001b[0m \u001b[0mint\u001b[0m\u001b[0;34m(\u001b[0m\u001b[0;34m(\u001b[0m\u001b[0mbatch_output\u001b[0m\u001b[0;34m.\u001b[0m\u001b[0mmax\u001b[0m\u001b[0;34m(\u001b[0m\u001b[0;36m1\u001b[0m\u001b[0;34m)\u001b[0m\u001b[0;34m[\u001b[0m\u001b[0;36m1\u001b[0m\u001b[0;34m]\u001b[0m \u001b[0;34m!=\u001b[0m \u001b[0mdata_target\u001b[0m\u001b[0;34m.\u001b[0m\u001b[0mnarrow\u001b[0m\u001b[0;34m(\u001b[0m\u001b[0;36m0\u001b[0m\u001b[0;34m,\u001b[0m \u001b[0mb_start\u001b[0m\u001b[0;34m,\u001b[0m \u001b[0mbsize_eff\u001b[0m\u001b[0;34m)\u001b[0m\u001b[0;34m)\u001b[0m\u001b[0;34m.\u001b[0m\u001b[0mlong\u001b[0m\u001b[0;34m(\u001b[0m\u001b[0;34m)\u001b[0m\u001b[0;34m.\u001b[0m\u001b[0msum\u001b[0m\u001b[0;34m(\u001b[0m\u001b[0;34m)\u001b[0m\u001b[0;34m)\u001b[0m\u001b[0;34m\u001b[0m\u001b[0m\n\u001b[1;32m    321\u001b[0m         \u001b[0;32melse\u001b[0m\u001b[0;34m:\u001b[0m\u001b[0;34m\u001b[0m\u001b[0m\n\u001b[0;32m--> 322\u001b[0;31m             \u001b[0merr_matrix\u001b[0m \u001b[0;34m=\u001b[0m \u001b[0mbatch_output\u001b[0m\u001b[0;34m.\u001b[0m\u001b[0mround\u001b[0m\u001b[0;34m(\u001b[0m\u001b[0;34m)\u001b[0m\u001b[0;34m.\u001b[0m\u001b[0mview\u001b[0m\u001b[0;34m(\u001b[0m\u001b[0mbatch_size\u001b[0m\u001b[0;34m,\u001b[0m\u001b[0;36m32\u001b[0m\u001b[0;34m,\u001b[0m\u001b[0;36m32\u001b[0m\u001b[0;34m,\u001b[0m\u001b[0;36m32\u001b[0m\u001b[0;34m)\u001b[0m\u001b[0;34m-\u001b[0m\u001b[0mdata_target\u001b[0m\u001b[0;34m.\u001b[0m\u001b[0mnarrow\u001b[0m\u001b[0;34m(\u001b[0m\u001b[0;36m0\u001b[0m\u001b[0;34m,\u001b[0m \u001b[0mb_start\u001b[0m\u001b[0;34m,\u001b[0m \u001b[0mbsize_eff\u001b[0m\u001b[0;34m)\u001b[0m \u001b[0;31m#should give 0 if same and ±1 if not the same\u001b[0m\u001b[0;34m\u001b[0m\u001b[0m\n\u001b[0m\u001b[1;32m    323\u001b[0m             \u001b[0mnb_errors\u001b[0m \u001b[0;34m+=\u001b[0m \u001b[0mint\u001b[0m\u001b[0;34m(\u001b[0m\u001b[0mtorch\u001b[0m\u001b[0;34m.\u001b[0m\u001b[0msum\u001b[0m\u001b[0;34m(\u001b[0m\u001b[0mtorch\u001b[0m\u001b[0;34m.\u001b[0m\u001b[0mabs\u001b[0m\u001b[0;34m(\u001b[0m\u001b[0merr_matrix\u001b[0m\u001b[0;34m)\u001b[0m\u001b[0;34m.\u001b[0m\u001b[0mview\u001b[0m\u001b[0;34m(\u001b[0m\u001b[0;34m-\u001b[0m\u001b[0;36m1\u001b[0m\u001b[0;34m)\u001b[0m\u001b[0;34m)\u001b[0m\u001b[0;34m)\u001b[0m\u001b[0;34m\u001b[0m\u001b[0m\n\u001b[1;32m    324\u001b[0m     \u001b[0;32mreturn\u001b[0m \u001b[0mnb_errors\u001b[0m\u001b[0;34m\u001b[0m\u001b[0m\n",
      "\u001b[0;31mRuntimeError\u001b[0m: invalid argument 2: size '[5 x 32 x 32 x 32]' is invalid for input with 45 elements at /Users/soumith/minicondabuild3/conda-bld/pytorch_1518385717421/work/torch/lib/TH/THStorage.c:41"
     ]
    }
   ],
   "source": [
    "# Train network \n",
    "#criterion = nn.BCELoss()\n",
    "#criterion = nn.CrossEntropyLoss()\n",
    "#criterion = nn.PoissonNLLLoss()\n",
    "#criterion = nn.BCEWithLogitsLoss()\n",
    "#criterion = nn.SmoothL1Loss()\n",
    "criterion = nn.MSELoss()\n",
    "\n",
    "train_input = Variable(train_input).float()\n",
    "validation_input = Variable(validation_input).float()\n",
    "\n",
    "if isinstance(criterion, nn.CrossEntropyLoss):\n",
    "    train_target = Variable(labels_train_cube_coords)  # keep long tensors\n",
    "    validation_target = Variable(labels_validation_cube_coords, \n",
    "    uires_grad=False) # convert to float\n",
    "    Noutputs = 18\n",
    "    \n",
    "elif isinstance(criterion, nn.NLLLoss):\n",
    "    train_target = Variable(labels_train_cube_coords)  # keep long tensors\n",
    "    validation_target = Variable(labels_validation_cube_coords, requires_grad=False) # convert to float\n",
    "    Noutputs = 18\n",
    "    \n",
    "else:\n",
    "    train_target = Variable(labels_train_cube_coords, requires_grad=False).float() # convert to float\n",
    "    validation_target = Variable(labels_validation_cube_coords, requires_grad=False).float() # convert to float\n",
    "    Noutputs = 9\n",
    "\n",
    "batch_size = 5\n",
    "Nbatches = int(math.ceil(Ntrain/batch_size))\n",
    "Nepochs = 50\n",
    "#seeds = list(range(15)) #Test 15 different seeds but always the seeds from 0 to 15 so that the weights are always initialized in a reproducible way\n",
    "#Nrep = len(seeds)\n",
    "Nrep = 1\n",
    "\n",
    "train_errors = torch.Tensor(Nrep, Nepochs).zero_()\n",
    "test_errors = torch.Tensor(Nrep, Nepochs).zero_()\n",
    "validation_errors = torch.Tensor(Nrep, Nepochs).zero_()\n",
    "ep_loss = torch.Tensor(Nrep, Nepochs).zero_()\n",
    "\n",
    "for i_rep in range(Nrep):    \n",
    "    #print('Repetition', seeds[i_rep])\n",
    "    #torch.manual_seed(seeds[i_rep])\n",
    "    \n",
    "    #model = conv2DNet_1(Nchannels, Nsamples_100, Noutputs) #from litterature EEG-Net coorected\n",
    "    model = conv2DNet_2(Noutputs)  #from Temporal - Spatial; 4 Filters Model - Best performing model with accuracy 0.83 in average on the validation set\n",
    "    #model = conv2DNet_3(Noutputs) #from Temporal - Spatial; 64 Filters Model\n",
    "    #model = conv2DNet_4(Noutputs) #from Temporal - Spatial; 128 Filters Model\n",
    "    \n",
    "    #optimizer = optim.SGD(model.parameters(), lr=1e-3, momentum=0.50)\n",
    "    optimizer = optim.Adam(model.parameters())\n",
    "    #optimizer = optim.Adagrad(model.parameters())\n",
    "    #optimizer = optim.Adamax(model.parameters())\n",
    "    #optimizer = optim.ASGD(model.parameters())\n",
    "    #optimizer = optim.RMSprop(model.parameters())\n",
    "    #optimizer = optim.Rprop(model.parameters())\n",
    "    \n",
    "    scheduler = optim.lr_scheduler.ReduceLROnPlateau(optimizer, 'min', patience=10, verbose=True) #Reduces the learning rate if it did not decreased by more than 10^-4 in 10 steps\n",
    "\n",
    "    for i_ep in range(Nepochs):\n",
    "        for b_start in range(0, Ntrain, batch_size):\n",
    "            bsize_eff = batch_size - max(0, b_start+batch_size-Ntrain)  # boundary case\n",
    "            model.train()\n",
    "            model.zero_grad()\n",
    "            output = model(train_input.narrow(0, b_start, bsize_eff))\n",
    "            if isinstance(criterion, nn.CrossEntropyLoss) or isinstance(criterion, nn.NLLLoss):\n",
    "                batch_loss = criterion(output, train_target.narrow(0, b_start, bsize_eff))\n",
    "            else:\n",
    "                batch_loss = criterion(output.view(bsize_eff*Noutputs), train_target.narrow(0, b_start, bsize_eff))\n",
    "            ep_loss[i_rep, i_ep] += batch_loss.data[0]\n",
    "            batch_loss.backward()\n",
    "            optimizer.step()\n",
    "        \n",
    "        scheduler.step(ep_loss[i_rep, i_ep])\n",
    "        \n",
    "        nb_train_errs = compute_nb_errors_delta(model, train_input, train_target, batch_size, criterion)\n",
    "        nb_validation_errs = compute_nb_errors_delta(model, validation_input, validation_target, batch_size, criterion)\n",
    "        \n",
    "        print(\"Epoch Number : \", i_ep)\n",
    "        print(\"\\t Training accuracy: \", (100*(Ntrain-nb_train_errs)/Ntrain))\n",
    "        print(\"\\t Validation accuracy \",(100*(Nvalidation-nb_validation_errs)/Nvalidation))\n",
    "        \n",
    "        print(\"\\t Epoch Loss \", ep_loss[i_rep, i_ep])\n",
    "        \n",
    "        train_errors[i_rep, i_ep] = nb_train_errs\n",
    "        validation_errors[i_rep, i_ep] = nb_validation_errs"
   ]
  },
  {
   "cell_type": "markdown",
   "metadata": {},
   "source": [
    "# NETWORK SUMMARY & RESULTS"
   ]
  },
  {
   "cell_type": "code",
   "execution_count": null,
   "metadata": {},
   "outputs": [],
   "source": [
    "train_accuracy = 100*(Ntrain-np.array(train_errors))/Ntrain\n",
    "val_accuracy = 100*(Nvalidation-np.array(validation_errors))/Nvalidation\n",
    "\n",
    "stddev_train_errors = np.std(train_accuracy, axis=0)\n",
    "stddev_val_errors = np.std(val_accuracy, axis=0)\n",
    "\n",
    "mean_train_errors = np.mean(train_accuracy, axis=0)\n",
    "mean_val_errors = np.mean(val_accuracy, axis=0)\n",
    "\n",
    "epoch = list(range(50))\n",
    "plt.plot(epoch, mean_train_errors)\n",
    "plt.plot(epoch, mean_val_errors)\n",
    "plt.fill_between(epoch, mean_train_errors+stddev_train_errors, mean_train_errors-stddev_train_errors, alpha=0.5)\n",
    "plt.fill_between(epoch, mean_val_errors+stddev_val_errors, mean_val_errors-stddev_val_errors, alpha=0.5)\n",
    "plt.xlabel('Number of epochs')\n",
    "plt.ylabel('Accuracy in %')\n",
    "plt.legend(['train', 'validation', 'test'])\n",
    "\n",
    "print(\"Training accuracy {:4.3g}%+-{}\".format(mean_train_errors[-1], stddev_train_errors[-1]))\n",
    "print(\"Validation accuracy {:4.3g}%+-{}\".format(mean_val_errors[-1], stddev_val_errors[-1]))"
   ]
  },
  {
   "cell_type": "code",
   "execution_count": null,
   "metadata": {},
   "outputs": [],
   "source": []
  },
  {
   "cell_type": "code",
   "execution_count": null,
   "metadata": {},
   "outputs": [],
   "source": []
  }
 ],
 "metadata": {
  "kernelspec": {
   "display_name": "Python 3",
   "language": "python",
   "name": "python3"
  },
  "language_info": {
   "codemirror_mode": {
    "name": "ipython",
    "version": 3
   },
   "file_extension": ".py",
   "mimetype": "text/x-python",
   "name": "python",
   "nbconvert_exporter": "python",
   "pygments_lexer": "ipython3",
   "version": "3.6.5"
  }
 },
 "nbformat": 4,
 "nbformat_minor": 2
}
