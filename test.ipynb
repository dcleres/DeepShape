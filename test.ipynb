{
 "cells": [
  {
   "cell_type": "code",
   "execution_count": 1,
   "metadata": {},
   "outputs": [],
   "source": [
    "from utility import * "
   ]
  },
  {
   "cell_type": "markdown",
   "metadata": {},
   "source": [
    "# Get Data "
   ]
  },
  {
   "cell_type": "code",
   "execution_count": 2,
   "metadata": {},
   "outputs": [
    {
     "name": "stdout",
     "output_type": "stream",
     "text": [
      "<class 'torch.IntTensor'> torch.Size([100, 100, 100])\n",
      "<class 'torch.IntTensor'> torch.Size([100, 100, 100])\n"
     ]
    }
   ],
   "source": [
    "train_input = importData(filename = 'pseudo_camaro-voxelized.txt', grid_size=100)\n",
    "voting_input = importData(filename = 'pseudo_camaro-votingTensor.txt', grid_size=100)"
   ]
  },
  {
   "cell_type": "markdown",
   "metadata": {},
   "source": [
    "# Plot Data"
   ]
  },
  {
   "cell_type": "code",
   "execution_count": null,
   "metadata": {},
   "outputs": [],
   "source": [
    "import matplotlib.pyplot as plt\n",
    "import numpy as np\n",
    "from mpl_toolkits.mplot3d import Axes3D\n",
    "\n",
    "voxels = np.array(train_input)\n",
    "\n",
    "# and plot everything\n",
    "fig = plt.figure()\n",
    "ax = fig.gca(projection='3d')\n",
    "ax.voxels(voxels)\n",
    "fig.savefig('Voxelized.png')\n",
    "fig.show()"
   ]
  },
  {
   "cell_type": "code",
   "execution_count": null,
   "metadata": {},
   "outputs": [],
   "source": [
    "import matplotlib.pyplot as plt\n",
    "import numpy as np\n",
    "from mpl_toolkits.mplot3d import Axes3D\n",
    "\n",
    "voxels = np.array(voting_input)\n",
    "\n",
    "# and plot everything\n",
    "fig = plt.figure()\n",
    "ax = fig.gca(projection='3d')\n",
    "ax.voxels(voxels)\n",
    "fig.savefig('Voxelized.png')\n",
    "fig.show()"
   ]
  },
  {
   "cell_type": "code",
   "execution_count": null,
   "metadata": {},
   "outputs": [],
   "source": [
    "voting_input = np.array(voting_input)\n",
    "\n",
    "plt.imshow(voting_input[75])\n",
    "plt.show()\n",
    "\n",
    "plt.imshow(voting_input[75], aspect=0.5)\n",
    "plt.show()\n",
    "\n",
    "#Visualise the \"in front of the car slice\"\n",
    "#struct_arr2 = voting_input.T\n",
    "#plt.imshow(struct_arr2[75])"
   ]
  },
  {
   "cell_type": "code",
   "execution_count": null,
   "metadata": {},
   "outputs": [],
   "source": [
    "import time\n",
    "import matplotlib.pyplot as plt\n",
    "import numpy as np\n",
    "\n",
    "voting_input = np.array(voting_input)\n",
    "\n",
    "def multi_slice_viewer(volume):\n",
    "    fig, ax = plt.subplots()\n",
    "    for i in range (0, 99):\n",
    "        plt.imshow(volume[i])\n",
    "        time.sleep(0.5)\n",
    "        plt.show()\n",
    "        if (i==99):\n",
    "            i = 0"
   ]
  },
  {
   "cell_type": "code",
   "execution_count": null,
   "metadata": {},
   "outputs": [],
   "source": [
    "multi_slice_viewer(voting_input.T)"
   ]
  },
  {
   "cell_type": "code",
   "execution_count": 22,
   "metadata": {},
   "outputs": [
    {
     "ename": "ModuleNotFoundError",
     "evalue": "No module named 'cv2'",
     "output_type": "error",
     "traceback": [
      "\u001b[0;31m---------------------------------------------------------------------------\u001b[0m",
      "\u001b[0;31mModuleNotFoundError\u001b[0m                       Traceback (most recent call last)",
      "\u001b[0;32m<ipython-input-22-292c3090d348>\u001b[0m in \u001b[0;36m<module>\u001b[0;34m()\u001b[0m\n\u001b[1;32m      3\u001b[0m \u001b[0;32mimport\u001b[0m \u001b[0mmatplotlib\u001b[0m\u001b[0;34m.\u001b[0m\u001b[0mpyplot\u001b[0m \u001b[0;32mas\u001b[0m \u001b[0mplt\u001b[0m\u001b[0;34m\u001b[0m\u001b[0m\n\u001b[1;32m      4\u001b[0m \u001b[0;32mimport\u001b[0m \u001b[0mnumpy\u001b[0m \u001b[0;32mas\u001b[0m \u001b[0mnp\u001b[0m\u001b[0;34m\u001b[0m\u001b[0m\n\u001b[0;32m----> 5\u001b[0;31m \u001b[0;32mimport\u001b[0m \u001b[0mcv2\u001b[0m\u001b[0;34m\u001b[0m\u001b[0m\n\u001b[0m\u001b[1;32m      6\u001b[0m \u001b[0;34m\u001b[0m\u001b[0m\n\u001b[1;32m      7\u001b[0m \u001b[0mvoting_input\u001b[0m \u001b[0;34m=\u001b[0m \u001b[0mnp\u001b[0m\u001b[0;34m.\u001b[0m\u001b[0marray\u001b[0m\u001b[0;34m(\u001b[0m\u001b[0mvoting_input\u001b[0m\u001b[0;34m)\u001b[0m\u001b[0;34m\u001b[0m\u001b[0m\n",
      "\u001b[0;31mModuleNotFoundError\u001b[0m: No module named 'cv2'"
     ]
    }
   ],
   "source": [
    "grid_size = 100\n",
    "from scipy import ndimage, misc\n",
    "import matplotlib.pyplot as plt\n",
    "import numpy as np\n",
    "import cv2\n",
    "\n",
    "voting_input = np.array(voting_input)\n",
    "\n",
    "lm = ndimage.filters.maximum_filter( voting_input, size=10)\n",
    "msk = (voting_input == lm) #// convert local max values to binary mask\n",
    "\n",
    "#A partir du max on peut faire des connected components mais le problème est que ça n'existe pas en 3D en python\n",
    "#et que en matlab donc soit on doit faire à la main soit faire autrement. PAr contre ensuite ce qu'il fait n'est \n",
    "#pas clair pour moi ... Une fois que c'est clair on peut implementer \n",
    "\n",
    "#Autre problème est la forme de la voiture puisque ici le max n'est pas au bon endroit sauf si on veut faire un \n",
    "#cube dans ce cas on a les contour déjà dessinéer rien que avec les max et on a juste à trouver les bords \n",
    "\n",
    "#Question du padding est-ce qu'il faut faire un zéro padding puisque pour l'instant la voiture est sur les bords \n",
    "    \n",
    "fig = plt.figure()\n",
    "#plt.gray()  # show the filtered result in grayscale\n",
    "ax1 = fig.add_subplot(121)  # left side\n",
    "ax2 = fig.add_subplot(122)  # right side\n",
    "ax3 = fig.add_subplot(123)  # right side\n",
    "result = ndimage.maximum_filter(voting_input[35], size=10)\n",
    "ax1.imshow(voting_input[35])\n",
    "ax2.imshow(result)\n",
    "ax3.inshow(L)\n",
    "\n",
    "plt.show()"
   ]
  },
  {
   "cell_type": "code",
   "execution_count": null,
   "metadata": {},
   "outputs": [],
   "source": []
  }
 ],
 "metadata": {
  "kernelspec": {
   "display_name": "Python 3",
   "language": "python",
   "name": "python3"
  },
  "language_info": {
   "codemirror_mode": {
    "name": "ipython",
    "version": 3
   },
   "file_extension": ".py",
   "mimetype": "text/x-python",
   "name": "python",
   "nbconvert_exporter": "python",
   "pygments_lexer": "ipython3",
   "version": "3.6.5"
  }
 },
 "nbformat": 4,
 "nbformat_minor": 2
}
